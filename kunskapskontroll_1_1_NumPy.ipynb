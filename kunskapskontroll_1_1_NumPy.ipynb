{
 "cells": [
  {
   "cell_type": "markdown",
   "id": "dacf74e6",
   "metadata": {},
   "source": [
    "# NumPy"
   ]
  },
  {
   "cell_type": "markdown",
   "id": "01b2bf34",
   "metadata": {},
   "source": [
    "Read the links: https://numpy.org/doc/stable/user/quickstart.html  and https://numpy.org/doc/stable/user/basics.broadcasting.html  before solving the exercises. "
   ]
  },
  {
   "cell_type": "code",
   "execution_count": 48,
   "id": "1f79e4a6",
   "metadata": {},
   "outputs": [],
   "source": [
    "import numpy as np"
   ]
  },
  {
   "cell_type": "markdown",
   "id": "7dae6889",
   "metadata": {},
   "source": [
    "### Print out the dimension (number of axes), shape, size and the datatype of the matrix A."
   ]
  },
  {
   "cell_type": "code",
   "execution_count": 3,
   "id": "7b3678cd",
   "metadata": {},
   "outputs": [],
   "source": [
    "A = np.arange(1, 16).reshape(3,5)"
   ]
  },
  {
   "cell_type": "code",
   "execution_count": 4,
   "id": "31d39235",
   "metadata": {},
   "outputs": [],
   "source": [
    "import numpy as np\n",
    "\n",
    "A = np.arange(1, 16).reshape(3,5)"
   ]
  },
  {
   "cell_type": "markdown",
   "id": "e56d2a96",
   "metadata": {},
   "source": [
    "### Do the following computations on the matrices B and C: \n",
    "* Elementwise subtraction. \n",
    "* Elementwise multiplication. \n",
    "* Matrix multiplication (by default you should use the @ operator)."
   ]
  },
  {
   "cell_type": "code",
   "execution_count": 5,
   "id": "a7053fbb",
   "metadata": {},
   "outputs": [
    {
     "name": "stdout",
     "output_type": "stream",
     "text": [
      "Matrix B:\n",
      "[[1 2 3]\n",
      " [4 5 6]\n",
      " [7 8 9]]\n",
      "\n",
      "Matrix C:\n",
      "[[2. 2. 2.]\n",
      " [2. 2. 2.]\n",
      " [2. 2. 2.]]\n",
      "\n",
      "Elementwise Subtraction (B - C):\n",
      "[[ 2.  4.  6.]\n",
      " [ 8. 10. 12.]\n",
      " [14. 16. 18.]]\n",
      "\n",
      "Elementwise Multiplication (B * C):\n",
      "[[ 2.  4.  6.]\n",
      " [ 8. 10. 12.]\n",
      " [14. 16. 18.]]\n",
      "\n",
      "Matrix Multiplication (B @ C):\n",
      "[[12. 12. 12.]\n",
      " [30. 30. 30.]\n",
      " [48. 48. 48.]]\n"
     ]
    }
   ],
   "source": [
    "import numpy as np\n",
    "\n",
    "B = np.arange(1, 10).reshape(3, 3)\n",
    "C = np.ones((3, 3)) * 2\n",
    "\n",
    "resultof_multiplication = B - C\n",
    "\n",
    "resultof_multiplication = B * C\n",
    "\n",
    "resultof_matrix_multiplication = B @ C\n",
    "\n",
    "print(\"Matrix B:\")\n",
    "print(B)\n",
    "print(\"\\nMatrix C:\")\n",
    "print(C)\n",
    "print(\"\\nElementwise Subtraction (B - C):\")\n",
    "print(resultof_multiplication)\n",
    "print(\"\\nElementwise Multiplication (B * C):\")\n",
    "print(resultof_multiplication)\n",
    "print(\"\\nMatrix Multiplication (B @ C):\")\n",
    "print(resultof_matrix_multiplication)"
   ]
  },
  {
   "cell_type": "code",
   "execution_count": 32,
   "id": "3cd794ae",
   "metadata": {},
   "outputs": [],
   "source": []
  },
  {
   "cell_type": "markdown",
   "id": "96030d53",
   "metadata": {},
   "source": [
    "### Do the following calculations on the matrix:\n",
    "* Exponentiate each number elementwise (use the np.exp function).\n",
    "\n",
    "* Calculate the minimum value in the whole matrix. \n",
    "* Calculcate the minimum value in each row. \n",
    "* Calculcate the minimum value in each column. \n",
    "\n",
    "\n",
    "* Find the index value for the minimum value in the whole matrix (hint: use np.argmin).\n",
    "* Find the index value for the minimum value in each row (hint: use np.argmin).\n",
    "\n",
    "\n",
    "* Calculate the sum for all elements.\n",
    "* Calculate the mean for each column. \n",
    "* Calculate the median for each column. "
   ]
  },
  {
   "cell_type": "code",
   "execution_count": 9,
   "id": "f8a9166b",
   "metadata": {},
   "outputs": [
    {
     "name": "stdout",
     "output_type": "stream",
     "text": [
      "[[1 2 3]\n",
      " [4 5 6]\n",
      " [7 8 9]]\n",
      "[[2.71828183e+00 7.38905610e+00 2.00855369e+01]\n",
      " [5.45981500e+01 1.48413159e+02 4.03428793e+02]\n",
      " [1.09663316e+03 2.98095799e+03 8.10308393e+03]]\n",
      "1\n",
      "[1 2 3]\n",
      "0\n",
      "[0 0 0]\n",
      "45\n",
      "[4. 5. 6.]\n",
      "[4. 5. 6.]\n"
     ]
    }
   ],
   "source": [
    "import numpy as np\n",
    "\n",
    "B = np.arange(1, 10).reshape(3, 3)\n",
    "print(B)\n",
    "\n",
    "exp_matrix_elementwise = np.exp (B)\n",
    "print(exp_matrix_elementwise)\n",
    "\n",
    "min_value_matrix = np.min(B)\n",
    "print(min_value_matrix)\n",
    "\n",
    "min_value_each_column = np.min(B, axis=0)\n",
    "print(min_value_each_column)\n",
    "\n",
    "min_index_whole = np.argmin(B)\n",
    "print(min_index_whole)\n",
    "\n",
    "min_index_each_row = np.argmin(B, axis=1)\n",
    "print(min_index_each_row)\n",
    "\n",
    "total_sum_matrix = np.sum(B)\n",
    "print(total_sum_matrix)\n",
    "\n",
    "mean_each_column = np.mean(B, axis=0)\n",
    "print(mean_each_column)\n",
    "\n",
    "median_each_column = np.median(B, axis=0)\n",
    "print(median_each_column)\n",
    "\n",
    "\n",
    "\n"
   ]
  },
  {
   "cell_type": "code",
   "execution_count": null,
   "id": "f03f24f7",
   "metadata": {},
   "outputs": [],
   "source": []
  },
  {
   "cell_type": "markdown",
   "id": "541eb7ba",
   "metadata": {},
   "source": [
    "### What does it mean when you provide fewer indices than axes when slicing? See example below."
   ]
  },
  {
   "cell_type": "code",
   "execution_count": 10,
   "id": "9c8abf56",
   "metadata": {},
   "outputs": [
    {
     "name": "stdout",
     "output_type": "stream",
     "text": [
      "[[ 1  2  3  4  5]\n",
      " [ 6  7  8  9 10]\n",
      " [11 12 13 14 15]]\n"
     ]
    }
   ],
   "source": [
    "print(A)"
   ]
  },
  {
   "cell_type": "code",
   "execution_count": 11,
   "id": "69415f7b",
   "metadata": {},
   "outputs": [
    {
     "data": {
      "text/plain": [
       "array([ 6,  7,  8,  9, 10])"
      ]
     },
     "execution_count": 11,
     "metadata": {},
     "output_type": "execute_result"
    }
   ],
   "source": [
    "A[1]"
   ]
  },
  {
   "cell_type": "markdown",
   "id": "6c53541b",
   "metadata": {},
   "source": [
    "**Answer:**"
   ]
  },
  {
   "cell_type": "code",
   "execution_count": 1,
   "id": "de01e120",
   "metadata": {},
   "outputs": [
    {
     "name": "stdout",
     "output_type": "stream",
     "text": [
      "Matris A:\n",
      "[[1 2]\n",
      " [3 4]]\n",
      "\n",
      "A[1] returns the row with index 1:\n",
      "[3 4]\n",
      "\n",
      "A[1, 0] returns the element at row 1, column 0:\n",
      "3\n"
     ]
    }
   ],
   "source": [
    "import numpy as np\n",
    "\n",
    "A = np.array([[1, 2], [3, 4]])\n",
    "\n",
    "print(\"Matris A:\")\n",
    "print(A)\n",
    "\n",
    "row = A[1]\n",
    "print(\"\\nA[1] returns the row with index 1:\")\n",
    "print(row)\n",
    "\n",
    "element = A[1, 0]\n",
    "print(\"\\nA[1, 0] returns the element at row 1, column 0:\")\n",
    "print(element)"
   ]
  },
  {
   "cell_type": "markdown",
   "id": "6652d0c9",
   "metadata": {},
   "source": [
    "### Iterating over multidimensional arrays is done with respect to the first axis, so in the example below we iterate trough the rows. If you would like to iterate through the array *elementwise*, how would you do that?"
   ]
  },
  {
   "cell_type": "code",
   "execution_count": 5,
   "id": "9459864f",
   "metadata": {},
   "outputs": [
    {
     "data": {
      "text/plain": [
       "array([[1, 2],\n",
       "       [3, 4]])"
      ]
     },
     "execution_count": 5,
     "metadata": {},
     "output_type": "execute_result"
    }
   ],
   "source": [
    "A"
   ]
  },
  {
   "cell_type": "code",
   "execution_count": 7,
   "id": "a671bb5a",
   "metadata": {},
   "outputs": [
    {
     "name": "stdout",
     "output_type": "stream",
     "text": [
      "[1 2]\n",
      "[3 4]\n"
     ]
    }
   ],
   "source": [
    "for i in A:\n",
    "    print(i)"
   ]
  },
  {
   "cell_type": "code",
   "execution_count": 9,
   "id": "f4e443a0",
   "metadata": {},
   "outputs": [
    {
     "name": "stdout",
     "output_type": "stream",
     "text": [
      "1\n",
      "2\n",
      "3\n",
      "4\n"
     ]
    }
   ],
   "source": [
    "import numpy as np\n",
    "\n",
    "A = np.array([[1, 2], [3, 4]])\n",
    "\n",
    "\n",
    "for element in np.nditer(A):\n",
    "    print(element)"
   ]
  },
  {
   "cell_type": "markdown",
   "id": "608a2583",
   "metadata": {},
   "source": [
    "### Explain what the code below does. More specifically, b has three axes - what does this mean? "
   ]
  },
  {
   "cell_type": "code",
   "execution_count": 40,
   "id": "f8f9b26f",
   "metadata": {},
   "outputs": [
    {
     "name": "stdout",
     "output_type": "stream",
     "text": [
      "[ 0  1  2  3  4  5  6  7  8  9 10 11 12 13 14 15 16 17 18 19 20 21 22 23\n",
      " 24 25 26 27 28 29]\n",
      "\n",
      "[[[ 0  1  2  3  4]\n",
      "  [ 5  6  7  8  9]\n",
      "  [10 11 12 13 14]]\n",
      "\n",
      " [[15 16 17 18 19]\n",
      "  [20 21 22 23 24]\n",
      "  [25 26 27 28 29]]]\n"
     ]
    }
   ],
   "source": [
    "a = np.arange(30)\n",
    "b = a.reshape((2, 3, -1))\n",
    "print(a)\n",
    "print()\n",
    "\n",
    "print(b)"
   ]
  },
  {
   "cell_type": "code",
   "execution_count": 10,
   "id": "863a45df",
   "metadata": {},
   "outputs": [
    {
     "name": "stdout",
     "output_type": "stream",
     "text": [
      "1D array 'a':\n",
      "[ 0  1  2  3  4  5  6  7  8  9 10 11 12 13 14 15 16 17 18 19 20 21 22 23\n",
      " 24 25 26 27 28 29]\n",
      "\n",
      "3D array 'b' after reshaping:\n",
      "[[[ 0  1  2  3  4]\n",
      "  [ 5  6  7  8  9]\n",
      "  [10 11 12 13 14]]\n",
      "\n",
      " [[15 16 17 18 19]\n",
      "  [20 21 22 23 24]\n",
      "  [25 26 27 28 29]]]\n"
     ]
    }
   ],
   "source": [
    "import numpy as np\n",
    "\n",
    "a = np.arange(30)    # 1D array from 0 to 29\n",
    "b = a.reshape((2, 3, -1))  # Reshape it to a 3D array\n",
    "\n",
    "print(\"1D array 'a':\")\n",
    "print(a)\n",
    "print()\n",
    "\n",
    "print(\"3D array 'b' after reshaping:\")\n",
    "print(b)"
   ]
  },
  {
   "cell_type": "markdown",
   "id": "ab5933d5",
   "metadata": {},
   "source": [
    "### Broadcasting\n",
    "**Read the following link about broadcasting: https://numpy.org/doc/stable/user/basics.broadcasting.html#basics-broadcasting**"
   ]
  },
  {
   "cell_type": "markdown",
   "id": "039805ba",
   "metadata": {},
   "source": [
    "# Remark on Broadcasting when doing Linear Algebra calculations in Python. "
   ]
  },
  {
   "cell_type": "markdown",
   "id": "c4bcc147",
   "metadata": {},
   "source": [
    "### From the mathematical rules of matrix addition, the operation below (m1 + m2) does not make sense. The reason is that matrix addition requires two matrices of the same size. In Python however, it works due to broadcasting rules in NumPy. So you must be careful when doing Linear Algebra calculations in Python since they do not follow the \"mathematical rules\". This can however easily be handled by doing some simple programming, for example validating that two matrices have the same shape is easy if you for instance want to add two matrices. "
   ]
  },
  {
   "cell_type": "code",
   "execution_count": 11,
   "id": "1fd46778",
   "metadata": {},
   "outputs": [
    {
     "name": "stdout",
     "output_type": "stream",
     "text": [
      "[[2 3]\n",
      " [4 5]]\n"
     ]
    }
   ],
   "source": [
    "m1 = np.array([[1, 2], [3, 4]])\n",
    "m2 = np.array([1, 1])\n",
    "print(m1 + m2)"
   ]
  },
  {
   "cell_type": "markdown",
   "id": "047d6576",
   "metadata": {},
   "source": [
    "### The example below would also not be allowed if following the \"mathematical rules\" in Linear Algebra. But it works due to broadcasting in NumPy. "
   ]
  },
  {
   "cell_type": "code",
   "execution_count": 2,
   "id": "5e6ef2e4",
   "metadata": {},
   "outputs": [
    {
     "name": "stdout",
     "output_type": "stream",
     "text": [
      "[2 3 4]\n"
     ]
    }
   ],
   "source": [
    "v1 = np.array([1, 2, 3])\n",
    "print(v1 + 1)"
   ]
  },
  {
   "cell_type": "code",
   "execution_count": 43,
   "id": "e2cbae26",
   "metadata": {},
   "outputs": [
    {
     "name": "stdout",
     "output_type": "stream",
     "text": [
      "[[1 2]\n",
      " [3 4]]\n",
      "[2 2]\n"
     ]
    }
   ],
   "source": [
    "A = np.arange(1, 5).reshape(2,2)\n",
    "print(A)\n",
    "\n",
    "b = np.array([2, 2])\n",
    "print(b)"
   ]
  },
  {
   "cell_type": "markdown",
   "id": "722fd5cd",
   "metadata": {},
   "source": [
    "# Vector- and matrix algebra Exercises"
   ]
  },
  {
   "cell_type": "markdown",
   "id": "b63a3081-d976-4d9f-bfd0-a63917e79f7d",
   "metadata": {},
   "source": [
    "**Now you are going to create a function that can be reused every time you add or multiply matrices. The function is created so that we do the addition and multiplication according to the rules of vector- and matrix algebra.**\n",
    "\n",
    "**Create a function \"add_mult_matrices\" that takes two matrices as input arguments (validate that the input are of the type numpy.ndarray by using the isinstance function), a third argument that is either 'add' or 'multiply' that specifies if you want to add or multiply the matrices (validate that the third argument is either 'add' or 'multiply'). When doing matrix addition, validate that the matrices have the same size. When doing matrix multiplication, validate that the sizes conform (i.e. number of columns in the first matrix is equal to the number of rows in the second matrix).**"
   ]
  },
  {
   "cell_type": "code",
   "execution_count": null,
   "id": "3506f977-ac0a-473f-85bc-eec9f35dc498",
   "metadata": {},
   "outputs": [],
   "source": []
  },
  {
   "cell_type": "markdown",
   "id": "8dad82d0-2359-4dff-8f5b-a57d3e34103c",
   "metadata": {},
   "source": [
    "### Solve all the exercises in chapter 10.1 in the book \"Matematik för yrkeshögskolan\". "
   ]
  },
  {
   "cell_type": "code",
   "execution_count": 1,
   "id": "89df88af-3668-4d98-a0a4-e6d92eea0f89",
   "metadata": {},
   "outputs": [
    {
     "name": "stdout",
     "output_type": "stream",
     "text": [
      "Dimension of x: (2,)\n",
      "5x: [20 15]\n",
      "3x: [12  9]\n",
      "5x + 3x: [32 24]\n",
      "8x: [32 24]\n",
      "4x - x: [12  9]\n",
      "Transpose of x(x^T): [4 3]\n",
      "dimension of x^T: (2,)\n",
      "x+x^T: [8 6]\n",
      "||x||: 5.0\n"
     ]
    }
   ],
   "source": [
    "import numpy as np\n",
    "x = np.array([4, 3])\n",
    "# (a) Dimension av vektorn x\n",
    "dimension = x.shape\n",
    "print(\"Dimension of x:\", dimension)\n",
    "\n",
    "# (b) Beräkna 5x\n",
    "result_b = 5 * x\n",
    "print(\"5x:\", result_b)\n",
    "\n",
    "# (c) Beräkna 3x\n",
    "result_c = 3* x\n",
    "print(\"3x:\", result_c)\n",
    "\n",
    "# (d) Beräkna 5x + 3x\n",
    "result_d = 5 * x + 3 * x\n",
    "print(\"5x + 3x:\", result_d)\n",
    "\n",
    "# (e) Beräkna 8x\n",
    "result_e = 8 * x\n",
    "print(\"8x:\", result_e)\n",
    "\n",
    "# (f) Beräkna 4x -x \n",
    "result_f = 4 * x -x \n",
    "print(\"4x - x:\", result_f)\n",
    "\n",
    "# (g) Transpose x and check dimension\n",
    "x_T = x.T\n",
    "dimension_g = x_T.shape\n",
    "print(\"Transpose of x(x^T):\", x_T)\n",
    "print(\"dimension of x^T:\", dimension_g)\n",
    "\n",
    "# (h) är x + x^T definerat \n",
    "result_h = x + x_T\n",
    "print(\"x+x^T:\", result_h)\n",
    "\n",
    "# (i) Beräkna ||x||\n",
    "result_i = np.linalg.norm(x)\n",
    "print(\"||x||:\", result_i )\n",
    "\n",
    "\n",
    "\n"
   ]
  },
  {
   "cell_type": "markdown",
   "id": "75c98984-1f88-4df1-b850-d2466de444a5",
   "metadata": {},
   "source": [
    "### Solve all the exercises, except 10.2.4, in chapter 10.2 in the book \"Matematik för yrkeshögskolan\". "
   ]
  },
  {
   "cell_type": "code",
   "execution_count": 6,
   "id": "65371610-16e1-48b2-b7fb-65e49002608a",
   "metadata": {},
   "outputs": [
    {
     "name": "stdout",
     "output_type": "stream",
     "text": [
      "(a) 2A:\n",
      " [[ 4  2 -2]\n",
      " [ 2 -2  2]]\n",
      "\n",
      "(b) B - 2A:\n",
      " [[ 0 -4  3]\n",
      " [ 0 -2 -4]]\n",
      "\n",
      "(c) 3C - 2E:\n",
      " [[ 1  4]\n",
      " [ 2 -1]]\n",
      "\n",
      "(d) 2D - 3C:\n",
      " [[3 2]\n",
      " [2 3]]\n",
      "\n",
      "(e) D^T + 2D:\n",
      " [[ 9 12]\n",
      " [12  9]]\n",
      "(f) 2C^T - 2D^T:\n",
      " [[-4 -4]\n",
      " [-4 -4]]\n",
      "\n",
      "(g) A^T - B är inte definierad eftersom dimensionerna inte matchar.\n",
      "\n",
      "(h) AC är inte definierad eftersom dimensionerna inte matchar.\n",
      "\n",
      "(i) CD:\n",
      " [[11 10]\n",
      " [10 11]]\n",
      "\n",
      "(j) CB:\n",
      " [[  8 -10  -3]\n",
      " [ 10  -8   0]]\n",
      "\n",
      "(k) CI:\n",
      " [[1 2]\n",
      " [2 1]]\n",
      "\n",
      "(l) AB^T:\n",
      " [[5 2]\n",
      " [7 4]]\n",
      "Uppgift 10.2.2: AA^T\n",
      " [[29 26]\n",
      " [26 42]]\n",
      "\n",
      "Uppgift 10.2.3:\n",
      "AB:\n",
      " [[ 4  7]\n",
      " [ 8 14]]\n",
      "AC:\n",
      " [[ 4  7]\n",
      " [ 8 14]]\n",
      "AB är lika med AC\n",
      "B är inte lika med C\n"
     ]
    }
   ],
   "source": [
    "import numpy as np\n",
    "\n",
    "# Definiera matriserna\n",
    "A = np.array([[2, 1, -1],\n",
    "              [1, -1, 1]])\n",
    "\n",
    "B = np.array([[4, -2, 1],\n",
    "              [2, -4, -2]])\n",
    "\n",
    "C = np.array([[1, 2],\n",
    "              [2, 1]])\n",
    "\n",
    "D = np.array([[3, 4],\n",
    "              [4, 3]])\n",
    "\n",
    "E = np.array([[1],\n",
    "              [2]])\n",
    "\n",
    "I = np.array([[1, 0],\n",
    "              [0, 1]])\n",
    "\n",
    "# (a) 2A\n",
    "result_a = 2 * A\n",
    "print(\"(a) 2A:\\n\", result_a)\n",
    "\n",
    "\n",
    "# (b) B - 2A\n",
    "result_b = B - 2 * A\n",
    "print(\"\\n(b) B - 2A:\\n\", result_b)\n",
    "\n",
    "\n",
    "# (c) 3C - 2E\n",
    "result_c = 3 * C - 2 * E\n",
    "print(\"\\n(c) 3C - 2E:\\n\", result_c)\n",
    "\n",
    "\n",
    "# (d) 2D - 3C\n",
    "result_d = 2 * D - 3 * C\n",
    "print(\"\\n(d) 2D - 3C:\\n\", result_d)\n",
    "\n",
    "\n",
    "# (e) D^T + 2D\n",
    "result_e = D.T + 2 * D\n",
    "print(\"\\n(e) D^T + 2D:\\n\", result_e)\n",
    "\n",
    "\n",
    "# (f) 2C^T - 2D^T\n",
    "result_f = 2 * C.T - 2 * D.T\n",
    "print(\"(f) 2C^T - 2D^T:\\n\", result_f)\n",
    "\n",
    "\n",
    "# (g) A^T - B\n",
    "A_T = A.T\n",
    "if A_T.shape == B.shape:\n",
    "    result_g = A_T - B\n",
    "    print(\"\\n(g) A^T - B:\\n\", result_g)\n",
    "else:    \n",
    "    print(\"\\n(g) A^T - B är inte definierad eftersom dimensionerna inte matchar.\")\n",
    "\n",
    "\n",
    "# (h) AC\n",
    "# result_h = np.dot(A, C)\n",
    "# print(\"\\n(h) AC:\\n\", result_h)\n",
    "if A.shape[1] == C.shape[0]:\n",
    "    result_h = np.dot(A, C)\n",
    "    print(\"\\n(h) AC:\\n\", result_h)\n",
    "else:\n",
    "    print(\"\\n(h) AC är inte definierad eftersom dimensionerna inte matchar.\")\n",
    "\n",
    "# (i) CD\n",
    "result_i = np.dot(C, D)\n",
    "print(\"\\n(i) CD:\\n\", result_i)\n",
    "\n",
    "\n",
    "# (j) CB\n",
    "result_j = np.dot(C, B)\n",
    "print(\"\\n(j) CB:\\n\", result_j)\n",
    "\n",
    "\n",
    "# (k) CI\n",
    "result_k = np.dot(C, I)\n",
    "print(\"\\n(k) CI:\\n\", result_k)\n",
    "\n",
    "\n",
    "# (l) AB^T\n",
    "result_l = np.dot(A, B.T)\n",
    "print(\"\\n(l) AB^T:\\n\", result_l)\n",
    "\n",
    "\n",
    "import numpy as np\n",
    "\n",
    "# Uppgift 10.2.2\n",
    "# Definiera matrisen A\n",
    "A = np.array([[2, 3, 4],\n",
    "              [5, 4, 1]])\n",
    "\n",
    "# Beräkna AA^T\n",
    "AAT = np.dot(A, A.T)\n",
    "print(\"Uppgift 10.2.2: AA^T\\n\", AAT)\n",
    "\n",
    "# Uppgift 10.2.3\n",
    "# Definiera matriserna A, B och C\n",
    "A = np.array([[1, 2],\n",
    "              [2, 4]])\n",
    "\n",
    "B = np.array([[2, 1],\n",
    "              [1, 3]])\n",
    "\n",
    "C = np.array([[4, 3],\n",
    "              [0, 2]])\n",
    "\n",
    "# Beräkna AB och AC\n",
    "AB = np.dot(A, B)\n",
    "AC = np.dot(A, C)\n",
    "\n",
    "# Kontrollera om AB == AC och B == C\n",
    "print(\"\\nUppgift 10.2.3:\")\n",
    "print(\"AB:\\n\", AB)\n",
    "print(\"AC:\\n\", AC)\n",
    "\n",
    "# Kontrollera om AB == AC\n",
    "if np.array_equal(AB, AC):\n",
    "    print(\"AB är lika med AC\")\n",
    "else:\n",
    "    print(\"AB är inte lika med AC\")\n",
    "\n",
    "# Kontrollera om B == C\n",
    "if np.array_equal(B, C):\n",
    "    print(\"B är lika med C\")\n",
    "else:\n",
    "    print(\"B är inte lika med C\")"
   ]
  },
  {
   "cell_type": "markdown",
   "id": "6a4a524f",
   "metadata": {},
   "source": [
    "### Copies and Views\n",
    "Read the following link: https://numpy.org/doc/stable/user/basics.copies.html"
   ]
  },
  {
   "cell_type": "markdown",
   "id": "6cbbeaf7",
   "metadata": {},
   "source": [
    "**Basic indexing creates a view, How can you check if v1 and v2 is a view or copy? If you change the last element in v2 to 123, will the last element in v1 be changed? Why?**"
   ]
  },
  {
   "cell_type": "code",
   "execution_count": 4,
   "id": "5b9ef4df",
   "metadata": {},
   "outputs": [
    {
     "name": "stdout",
     "output_type": "stream",
     "text": [
      "[0 1 2 3]\n",
      "[2 3]\n"
     ]
    }
   ],
   "source": [
    "v1 = np.arange(4)\n",
    "v2 = v1[-2:]\n",
    "print(v1)\n",
    "print(v2)"
   ]
  },
  {
   "cell_type": "code",
   "execution_count": 14,
   "id": "d2440489",
   "metadata": {},
   "outputs": [
    {
     "name": "stdout",
     "output_type": "stream",
     "text": [
      "None\n",
      "[0 1 2 3]\n"
     ]
    }
   ],
   "source": [
    "# The base attribute of a view returns the original array while it returns None for a copy.\n",
    "print(v1.base)\n",
    "print(v2.base)"
   ]
  },
  {
   "cell_type": "code",
   "execution_count": 15,
   "id": "c8752807",
   "metadata": {},
   "outputs": [
    {
     "name": "stdout",
     "output_type": "stream",
     "text": [
      "[  0   1   2 123]\n",
      "[  2 123]\n"
     ]
    }
   ],
   "source": [
    "# The last element in v1 will be changed aswell since v2 is a view, meaning they share the same data buffer.\n",
    "v2[-1] = 123\n",
    "print(v1)\n",
    "print(v2)"
   ]
  },
  {
   "cell_type": "code",
   "execution_count": 9,
   "id": "3dd68221",
   "metadata": {},
   "outputs": [
    {
     "name": "stdout",
     "output_type": "stream",
     "text": [
      "v1.base: None\n",
      "v2_view.base: [0 1 2 3]\n",
      "v2_copy.base: None\n"
     ]
    }
   ],
   "source": [
    "import numpy as np\n",
    "\n",
    "v1 = np.arange(4)\n",
    "\n",
    "v2_view = v1[-2:]\n",
    "\n",
    "# kopia\n",
    "v2_copy = v1[-2:].copy()\n",
    "\n",
    "# \n",
    "print(\"v1.base:\", v1.base)  \n",
    "print(\"v2_view.base:\", v2_view.base) \n",
    "print(\"v2_copy.base:\", v2_copy.base)  "
   ]
  }
 ],
 "metadata": {
  "kernelspec": {
   "display_name": "base",
   "language": "python",
   "name": "python3"
  },
  "language_info": {
   "codemirror_mode": {
    "name": "ipython",
    "version": 3
   },
   "file_extension": ".py",
   "mimetype": "text/x-python",
   "name": "python",
   "nbconvert_exporter": "python",
   "pygments_lexer": "ipython3",
   "version": "3.12.4"
  }
 },
 "nbformat": 4,
 "nbformat_minor": 5
}
